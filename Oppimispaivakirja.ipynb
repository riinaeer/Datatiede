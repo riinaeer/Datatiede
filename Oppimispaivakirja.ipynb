{
  "nbformat": 4,
  "nbformat_minor": 0,
  "metadata": {
    "colab": {
      "provenance": []
    },
    "kernelspec": {
      "name": "python3",
      "display_name": "Python 3"
    },
    "language_info": {
      "name": "python"
    }
  },
  "cells": [
    {
      "cell_type": "code",
      "execution_count": null,
      "metadata": {
        "id": "tCgCUmScdv5G"
      },
      "outputs": [],
      "source": [
        "{\n",
        "   \"cell_type\": \"code\",\n",
        "   \"execution_count\": 2,\n",
        "   \"metadata\": {},\n",
        "   \"outputs\": [],\n",
        "   \"source\": [\n",
        "    \"from IPython.display import Image\\n\",\n",
        "    \"from IPython.core.display import HTML \"\n",
        "   ]\n",
        "  },\n",
        "\n",
        "{\n",
        "   \"cell_type\": \"markdown\",\n",
        "   \"metadata\": {},\n",
        "   \"source\": [\n",
        "    \"# Oppimispäiväkirja: Johdatus datatieteeseen\"\n",
        "   ]\n",
        "  },\n",
        "\n",
        "  # Ensimmäisen viikon tietoja\n",
        "\n",
        "{\n",
        "   \"cell_type\": \"markdown\",\n",
        "   \"metadata\": {},\n",
        "   \"source\": [\n",
        "    \"## Ensimmäisen viikon tietoja\"\n",
        "   ]\n",
        "  },\n",
        "{\n",
        "   \"cell_type\": \"markdown\",\n",
        "   \"metadata\": {},\n",
        "   \"source\": [\n",
        "    \"Keskeiset datatiedeprojektin keskeiset Python-kirjastot: \\n\",\n",
        "    \"\\n\",\n",
        "    \"* NumPy: Laskenta, moniulotteiset taulukot ja matriisit, funktioita. \\n\",\n",
        "    \"* Pandas: Datan käsittely ja analysointi. \\n\",\n",
        "    \"* Matplotlib: Datan visuailisointikirjasto. \\n\",\n",
        "    \"* Seaborn: edistyneet visualisoinnit \\n\",\n",
        "    \"* Scikit-learn: Koneoppimisen kirjasto datan louhintaan ja analysointiin\",\n",
        "    \"\\n\"\n",
        "    \"Kirjastojen asentaminen: \\n\",\n",
        "    \"\\n\"\n",
        "    \"Kirjastot voidaan asentaa esimerkiksi pip-komennolla \\n\",\n",
        "    \"Seuraava komento ottaa kirjatot käyttöön:\"\n",
        "   ]\n",
        "  },\n",
        "\n",
        "{\n",
        "   \"cell_type\": \"code\",\n",
        "   \"execution_count\": 17,\n",
        "   \"metadata\": {},\n",
        "   \"outputs\": [],\n",
        "   \"source\": [\n",
        "    \"# pip install pandas\"\n",
        "    \"# pip install numpy\"\n",
        "    \"# pip install matplotlib\"\n",
        "   ]\n",
        "  },\n",
        "\n",
        "{\n",
        "   \"cell_type\": \"markdown\",\n",
        "   \"metadata\": {},\n",
        "   \"source\": [\n",
        "    \"Työskentely-ympäristön valitseminen\"\n",
        "   ]\n",
        "  },\n",
        "{\n",
        "   \"cell_type\": \"markdown\",\n",
        "   \"metadata\": {},\n",
        "   \"source\": [\n",
        "    \"Tärkeää, että ympäristössä pystytään monipuolisesti hyödyntämään eri kirjastoja. Kokeilin aluksi Google Colabia, sillä siinä pääsee ilman ylimääräisiä asennuksia heti aloittamaan. Google Colab on pilvipohjainen palvelu, jolla on tehokkaat laskentaresurssit. \\n\",\n",
        "    \"Visual Studio Code on myös monipuolinen työympäristö, jossa pystyy laajasti hyödyntämään kirjastoja. \\n\",\n",
        "    \"Myös PyCharm soveltuu monimutkaisiin datatiedeprojekteihin. Se tukee monia plugineja ja integroituu hyvin muihin työkaluihin ja palveluihin.\"\n",
        "   ]\n",
        "{
   "cell_type": "code",
   "execution_count": null,
   "metadata": {},
   "outputs": [],
   "source": []
  }
 ],
 "metadata": {
  "kernelspec": {
   "display_name": "Python 3",
   "language": "python",
   "name": "python3"
  },
  "language_info": {
   "codemirror_mode": {
    "name": "ipython",
    "version": 3
   },
   "file_extension": ".py",
   "mimetype": "text/x-python",
   "name": "python",
   "nbconvert_exporter": "python",
   "pygments_lexer": "ipython3",
   "version": "3.8.16"
  }
 },
 "nbformat": 4,
 "nbformat_minor": 4
}
        "  },\n",
        "\n"
      ]

    }
  ]
}
