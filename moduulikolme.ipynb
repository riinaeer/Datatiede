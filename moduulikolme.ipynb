{
 "cells": [
  {
   "cell_type": "code",
   "execution_count": 10,
   "id": "4c92a651-2cb4-488e-85be-67c1cd422a52",
   "metadata": {},
   "outputs": [],
   "source": [
    "## Moduuli 3: Datan visualisointi -Aineistona Heart Attack Analysis & Prediction Dataset"
   ]
  },
  {
   "cell_type": "code",
   "execution_count": 11,
   "id": "0061d390-b07c-49dc-acba-3b3d8c69f6e8",
   "metadata": {},
   "outputs": [
    {
     "data": {
      "text/html": [
       "<div>\n",
       "<style scoped>\n",
       "    .dataframe tbody tr th:only-of-type {\n",
       "        vertical-align: middle;\n",
       "    }\n",
       "\n",
       "    .dataframe tbody tr th {\n",
       "        vertical-align: top;\n",
       "    }\n",
       "\n",
       "    .dataframe thead th {\n",
       "        text-align: right;\n",
       "    }\n",
       "</style>\n",
       "<table border=\"1\" class=\"dataframe\">\n",
       "  <thead>\n",
       "    <tr style=\"text-align: right;\">\n",
       "      <th></th>\n",
       "      <th>age</th>\n",
       "      <th>sex</th>\n",
       "      <th>cp</th>\n",
       "      <th>trtbps</th>\n",
       "      <th>chol</th>\n",
       "      <th>fbs</th>\n",
       "      <th>restecg</th>\n",
       "      <th>thalachh</th>\n",
       "      <th>exng</th>\n",
       "      <th>oldpeak</th>\n",
       "      <th>slp</th>\n",
       "      <th>caa</th>\n",
       "      <th>thall</th>\n",
       "      <th>output</th>\n",
       "    </tr>\n",
       "  </thead>\n",
       "  <tbody>\n",
       "    <tr>\n",
       "      <th>0</th>\n",
       "      <td>63</td>\n",
       "      <td>1</td>\n",
       "      <td>3</td>\n",
       "      <td>145</td>\n",
       "      <td>233</td>\n",
       "      <td>1</td>\n",
       "      <td>0</td>\n",
       "      <td>150</td>\n",
       "      <td>0</td>\n",
       "      <td>2.3</td>\n",
       "      <td>0</td>\n",
       "      <td>0</td>\n",
       "      <td>1</td>\n",
       "      <td>1</td>\n",
       "    </tr>\n",
       "    <tr>\n",
       "      <th>1</th>\n",
       "      <td>37</td>\n",
       "      <td>1</td>\n",
       "      <td>2</td>\n",
       "      <td>130</td>\n",
       "      <td>250</td>\n",
       "      <td>0</td>\n",
       "      <td>1</td>\n",
       "      <td>187</td>\n",
       "      <td>0</td>\n",
       "      <td>3.5</td>\n",
       "      <td>0</td>\n",
       "      <td>0</td>\n",
       "      <td>2</td>\n",
       "      <td>1</td>\n",
       "    </tr>\n",
       "    <tr>\n",
       "      <th>2</th>\n",
       "      <td>41</td>\n",
       "      <td>0</td>\n",
       "      <td>1</td>\n",
       "      <td>130</td>\n",
       "      <td>204</td>\n",
       "      <td>0</td>\n",
       "      <td>0</td>\n",
       "      <td>172</td>\n",
       "      <td>0</td>\n",
       "      <td>1.4</td>\n",
       "      <td>2</td>\n",
       "      <td>0</td>\n",
       "      <td>2</td>\n",
       "      <td>1</td>\n",
       "    </tr>\n",
       "    <tr>\n",
       "      <th>3</th>\n",
       "      <td>56</td>\n",
       "      <td>1</td>\n",
       "      <td>1</td>\n",
       "      <td>120</td>\n",
       "      <td>236</td>\n",
       "      <td>0</td>\n",
       "      <td>1</td>\n",
       "      <td>178</td>\n",
       "      <td>0</td>\n",
       "      <td>0.8</td>\n",
       "      <td>2</td>\n",
       "      <td>0</td>\n",
       "      <td>2</td>\n",
       "      <td>1</td>\n",
       "    </tr>\n",
       "    <tr>\n",
       "      <th>4</th>\n",
       "      <td>57</td>\n",
       "      <td>0</td>\n",
       "      <td>0</td>\n",
       "      <td>120</td>\n",
       "      <td>354</td>\n",
       "      <td>0</td>\n",
       "      <td>1</td>\n",
       "      <td>163</td>\n",
       "      <td>1</td>\n",
       "      <td>0.6</td>\n",
       "      <td>2</td>\n",
       "      <td>0</td>\n",
       "      <td>2</td>\n",
       "      <td>1</td>\n",
       "    </tr>\n",
       "  </tbody>\n",
       "</table>\n",
       "</div>"
      ],
      "text/plain": [
       "   age  sex  cp  trtbps  chol  fbs  restecg  thalachh  exng  oldpeak  slp  \\\n",
       "0   63    1   3     145   233    1        0       150     0      2.3    0   \n",
       "1   37    1   2     130   250    0        1       187     0      3.5    0   \n",
       "2   41    0   1     130   204    0        0       172     0      1.4    2   \n",
       "3   56    1   1     120   236    0        1       178     0      0.8    2   \n",
       "4   57    0   0     120   354    0        1       163     1      0.6    2   \n",
       "\n",
       "   caa  thall  output  \n",
       "0    0      1       1  \n",
       "1    0      2       1  \n",
       "2    0      2       1  \n",
       "3    0      2       1  \n",
       "4    0      2       1  "
      ]
     },
     "execution_count": 11,
     "metadata": {},
     "output_type": "execute_result"
    }
   ],
   "source": [
    "# käytettävät moduulit\n",
    "import pandas as pd\n",
    "import numpy as np\n",
    "import seaborn as sns\n",
    "import matplotlib.pyplot as plt\n",
    "\n",
    "# luetaan data, datasetissä riskitekjöitä sydäntapahtumille\n",
    "heart_data = pd.read_csv(\"heart.csv\")\n",
    "\n",
    "# Alustetaan satunnaisluku siemenarvolla (varmistaa, että satunnaislukuja tuottqavat operaatiot antavat aina saman tuloksen)\n",
    "np.random.seed(0)\n",
    "\n",
    "#Tarkastellaan aineistoa\n",
    "heart_data.head()"
   ]
  },
  {
   "cell_type": "code",
   "execution_count": 12,
   "id": "8d3c14be-7227-4187-aa5a-48e4a8529a4d",
   "metadata": {},
   "outputs": [
    {
     "data": {
      "text/plain": [
       "'Sex : Sex of the patient\\nexang: exercise induced angina (1 = yes; 0 = no)\\nca: number of major vessels (0–3)\\ncp : Chest Pain type chest pain type\\nValue 0: typical angina\\nValue 1: atypical angina\\nValue 2: non-anginal pain\\nValue 3: asymptomatic\\ntrtbps : resting blood pressure (in mm Hg)\\nchol : cholestoral in mg/dl fetched via BMI sensor\\nfbs : (fasting blood sugar > 120 mg/dl) (1 = true; 0 = false)\\nrest_ecg : resting electrocardiographic results\\nValue 0: normal\\nValue 1: having ST-T wave abnormality (T wave inversions and/or ST elevation or depression of > 0.05 mV)\\nValue 2: showing probable or definite left ventricular hypertrophy by Estes’ criteria\\nthalach : maximum heart rate achieved\\ntarget : 0= less chance of heart attack 1= more chance of heart attack \\n'"
      ]
     },
     "execution_count": 12,
     "metadata": {},
     "output_type": "execute_result"
    }
   ],
   "source": [
    "# Selitteet eri arvoille\n",
    "\n",
    "\"\"\"Sex : Sex of the patient\n",
    "exang: exercise induced angina (1 = yes; 0 = no)\n",
    "ca: number of major vessels (0–3)\n",
    "cp : Chest Pain type chest pain type\n",
    "Value 0: typical angina\n",
    "Value 1: atypical angina\n",
    "Value 2: non-anginal pain\n",
    "Value 3: asymptomatic\n",
    "trtbps : resting blood pressure (in mm Hg)\n",
    "chol : cholestoral in mg/dl fetched via BMI sensor\n",
    "fbs : (fasting blood sugar > 120 mg/dl) (1 = true; 0 = false)\n",
    "rest_ecg : resting electrocardiographic results\n",
    "Value 0: normal\n",
    "Value 1: having ST-T wave abnormality (T wave inversions and/or ST elevation or depression of > 0.05 mV)\n",
    "Value 2: showing probable or definite left ventricular hypertrophy by Estes’ criteria\n",
    "thalach : maximum heart rate achieved\n",
    "target : 0= less chance of heart attack 1= more chance of heart attack \n",
    "\"\"\""
   ]
  },
  {
   "cell_type": "code",
   "execution_count": 13,
   "id": "94458a06-1863-4266-b4b6-cb5b89dfed71",
   "metadata": {},
   "outputs": [
    {
     "data": {
      "text/plain": [
       "<matplotlib.legend.Legend at 0x2675d08fcd0>"
      ]
     },
     "execution_count": 13,
     "metadata": {},
     "output_type": "execute_result"
    },
    {
     "data": {
      "image/png": "[encoded data removed]",
      "text/plain": [
       "<Figure size 1000x500 with 1 Axes>"
      ]
     },
     "metadata": {},
     "output_type": "display_data"
    }
   ],
   "source": [
    "\n",
    "# Määritellään rintakiputyypit\n",
    "cp_labels = {0: 'Tyypillinen rintakipu', 1: 'Epätyypillinen rintakipu', 2: 'Ei sydänperäinen kipu', 3: 'Oireeton'}\n",
    "\n",
    "# Muunnetaan 'cp' sarakkeen numeeriset arvot merkkijonoiksi käyttäen määriteltyjä otsikoita\n",
    "heart_data['cp'] = heart_data['cp'].map(cp_labels)\n",
    "\n",
    "# Visualisoidaan pylväsdiagrammeilla\n",
    "plt.figure(figsize=(10,5))\n",
    "sns.countplot(data=heart_data, x='sex', hue='cp')\n",
    "plt.title(\"Rintakivun esiintyminen sukupuolittain\")\n",
    "plt.xlabel(\"Sukupuoli\")\n",
    "plt.ylabel(\"Lukumäärä\")\n",
    "plt.legend(title='Rintakiputyyppi')\n"
   ]
  },
  {
   "cell_type": "code",
   "execution_count": null,
   "id": "7bcd572d-3c4e-4bd7-8e6c-cd4b054fe7c8",
   "metadata": {},
   "outputs": [],
   "source": []
  }
 ],
 "metadata": {
  "kernelspec": {
   "display_name": "Python 3 (ipykernel)",
   "language": "python",
   "name": "python3"
  },
  "language_info": {
   "codemirror_mode": {
    "name": "ipython",
    "version": 3
   },
   "file_extension": ".py",
   "mimetype": "text/x-python",
   "name": "python",
   "nbconvert_exporter": "python",
   "pygments_lexer": "ipython3",
   "version": "3.11.7"
  }
 },
 "nbformat": 4,
 "nbformat_minor": 5
}
